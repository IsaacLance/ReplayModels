{
 "cells": [
  {
   "cell_type": "code",
   "execution_count": 10,
   "metadata": {},
   "outputs": [],
   "source": [
    "import carball\n",
    "import pandas as pd\n",
    "import numpy as np\n",
    "import matplotlib.pyplot as plt\n",
    "import os\n",
    "import glob\n",
    "import torch\n",
    "import torch.nn as nn\n",
    "import torch.optim as optim\n",
    "import requests\n",
    "%matplotlib inline"
   ]
  },
  {
   "cell_type": "code",
   "execution_count": 11,
   "metadata": {},
   "outputs": [],
   "source": [
    "def get_playergames(rank=19):\n",
    "    url = \"https://calculated.gg/api/v1/playergames?key=1&rank={}&playlist=13\".format(rank)\n",
    "    r = requests.get(url)\n",
    "    return r.json()"
   ]
  },
  {
   "cell_type": "code",
   "execution_count": 58,
   "metadata": {},
   "outputs": [],
   "source": [
    "input_data = None\n",
    "for rank in range(12, 19):\n",
    "    for x in range(5):\n",
    "        rank_data = get_playergames(rank)\n",
    "\n",
    "        data = pd.DataFrame(rank_data['data'], columns=rank_data['columns']).fillna(0)\n",
    "        if input_data is not None:\n",
    "            input_data = input_data.append(data)\n",
    "        else:\n",
    "            input_data = data\n",
    "            \n",
    "input_data = input_data.reset_index()"
   ]
  },
  {
   "cell_type": "code",
   "execution_count": 59,
   "metadata": {},
   "outputs": [],
   "source": [
    "input_columns = ['saves', 'total_aerials', \n",
    "                 'time_at_boost_speed', 'time_at_slow_speed', 'average_speed', \n",
    "                 'boost_usage', 'average_hit_distance', 'ball_hit_forward', 'won_turnovers',\n",
    "                 'num_stolen_boosts']#\n",
    "input_columns = list(input_data.columns[11:])\n",
    "nonzero = input_data[input_data['time_in_game'] > 0]\n",
    "input = nonzero[input_columns].div(nonzero['time_in_game'], axis=0)\n",
    "for c in input.columns:\n",
    "    if (input[c].max()-input[c].min()) == 0:\n",
    "        input = input.drop(c, axis=1)\n",
    "input = (input-input.min())/(input.max()-input.min())\n",
    "output = nonzero['rank'].values.reshape((-1, 1)).astype(float)"
   ]
  },
  {
   "cell_type": "code",
   "execution_count": 60,
   "metadata": {},
   "outputs": [],
   "source": [
    "threshold = np.random.rand(len(output)) < 0.9\n",
    "input_train, input_test = input[threshold].values.astype(float), input[~threshold].values.astype(float)\n",
    "output_train, output_test = output[threshold], output[~threshold]"
   ]
  },
  {
   "cell_type": "code",
   "execution_count": 61,
   "metadata": {},
   "outputs": [],
   "source": [
    "num_columns = len(input.columns)\n",
    "n_hidden = 128\n",
    "class RankPredictor(nn.Module):\n",
    "    def __init__(self):\n",
    "        super().__init__()\n",
    "        self.layers = nn.Sequential(\n",
    "            nn.Linear(num_columns, n_hidden),\n",
    "            nn.ReLU(),\n",
    "            nn.Linear(n_hidden, n_hidden//2),\n",
    "            nn.ReLU(),\n",
    "            nn.Linear(n_hidden//2, n_hidden//4),\n",
    "            nn.ReLU(),\n",
    "            nn.Linear(n_hidden//4, 1)\n",
    "        )\n",
    "    \n",
    "    def forward(self, game_state):\n",
    "        game_state = torch.from_numpy(game_state).float().cuda()\n",
    "        return self.layers(game_state)"
   ]
  },
  {
   "cell_type": "code",
   "execution_count": 68,
   "metadata": {},
   "outputs": [],
   "source": [
    "model = RankPredictor().cuda().train()\n",
    "opt = optim.Adam(model.parameters(), lr=1e-2)\n",
    "loss = nn.MSELoss()\n",
    "epochs = 10000\n",
    "epoch_losses = []\n",
    "accuracy = []\n",
    "\n",
    "\n",
    "output_tensor = torch.from_numpy(output_train).float().cuda()\n",
    "\n",
    "for epoch in range(epochs):\n",
    "    opt.zero_grad()\n",
    "    predicted = model(input_train)\n",
    "    loss_val = loss(predicted, output_tensor)\n",
    "    loss_val.backward()\n",
    "    opt.step()\n",
    "    \n",
    "    predicted = model(input_test)\n",
    "    predicted = predicted.cpu().detach().numpy().astype(float)\n",
    "#     print(predicted.shape, output_test.shape)\n",
    "#     assert(predicted.shape == output_test.shape)#, \"{}, {}\".format(predicted.shape, output_test.shape))\n",
    "    acc = (abs(predicted.astype(float) - output_test.astype(float)) < 3).sum() / predicted.shape[0]\n",
    "    epoch_losses.append(loss_val.cpu().data.numpy())\n",
    "    accuracy.append(acc)"
   ]
  },
  {
   "cell_type": "code",
   "execution_count": 69,
   "metadata": {},
   "outputs": [
    {
     "data": {
      "image/png": "[encoded data removed]",
      "text/plain": [
       "<Figure size 432x288 with 1 Axes>"
      ]
     },
     "metadata": {
      "needs_background": "light"
     },
     "output_type": "display_data"
    }
   ],
   "source": [
    "plt.plot(range(len(epoch_losses)), epoch_losses);"
   ]
  },
  {
   "cell_type": "code",
   "execution_count": 70,
   "metadata": {},
   "outputs": [
    {
     "data": {
      "image/png": "[encoded data removed]",
      "text/plain": [
       "<Figure size 432x288 with 1 Axes>"
      ]
     },
     "metadata": {
      "needs_background": "light"
     },
     "output_type": "display_data"
    }
   ],
   "source": [
    "plt.plot(range(len(accuracy)), accuracy);"
   ]
  },
  {
   "cell_type": "code",
   "execution_count": 75,
   "metadata": {},
   "outputs": [
    {
     "data": {
      "image/png": "[encoded data removed]",
      "text/plain": [
       "<Figure size 432x288 with 1 Axes>"
      ]
     },
     "metadata": {
      "needs_background": "light"
     },
     "output_type": "display_data"
    }
   ],
   "source": [
    "d = []\n",
    "for x in range(0, len(input_test), 10):\n",
    "    d.append(model(input_test[x: x+100].astype(float)).mean())\n",
    "    \n",
    "plt.plot(np.array(range(len(d))) / 50 + 10, d)\n",
    "plt.xlabel('Actual rank')\n",
    "plt.ylabel('Predicted rank')\n",
    "plt.xticks(list(range(12, 19)))\n",
    "plt.yticks(list(range(12, 19)));\n",
    "plt.grid();"
   ]
  },
  {
   "cell_type": "code",
   "execution_count": 72,
   "metadata": {},
   "outputs": [
    {
     "data": {
      "text/plain": [
       "(35000, 68)"
      ]
     },
     "execution_count": 72,
     "metadata": {},
     "output_type": "execute_result"
    }
   ],
   "source": [
    "input.shape"
   ]
  },
  {
   "cell_type": "code",
   "execution_count": 73,
   "metadata": {},
   "outputs": [
    {
     "data": {
      "text/plain": [
       "0.9683748169838946"
      ]
     },
     "execution_count": 73,
     "metadata": {},
     "output_type": "execute_result"
    }
   ],
   "source": [
    "accuracy[8000]"
   ]
  },
  {
   "cell_type": "markdown",
   "metadata": {},
   "source": [
    "# Ensemble Model"
   ]
  },
  {
   "cell_type": "code",
   "execution_count": 79,
   "metadata": {},
   "outputs": [],
   "source": [
    "num_columns = len(input.columns)\n",
    "n_hidden = 128\n",
    "class RankPredictorEnsemble(nn.Module):\n",
    "    def __init__(self):\n",
    "        super().__init__()\n",
    "        self.layers = nn.Sequential(\n",
    "            nn.Linear(num_columns, n_hidden),\n",
    "            nn.ReLU(),\n",
    "            nn.Linear(n_hidden, n_hidden//2),\n",
    "            nn.ReLU(),\n",
    "            nn.Linear(n_hidden//2, n_hidden//4),\n",
    "            nn.ReLU(),\n",
    "            nn.Linear(n_hidden//4, 1),\n",
    "            nn.Sigmoid()\n",
    "        )\n",
    "    \n",
    "    def forward(self, game_state):\n",
    "        game_state = torch.from_numpy(game_state).float().cuda()\n",
    "        return self.layers(game_state)"
   ]
  },
  {
   "cell_type": "code",
   "execution_count": 77,
   "metadata": {},
   "outputs": [],
   "source": [
    "ranks = list(range(10, 20))"
   ]
  },
  {
   "cell_type": "code",
   "execution_count": 80,
   "metadata": {},
   "outputs": [],
   "source": [
    "models = {}\n",
    "for rank in ranks:\n",
    "    models[rank] = RankPredictorEnsemble().cuda()"
   ]
  },
  {
   "cell_type": "code",
   "execution_count": null,
   "metadata": {},
   "outputs": [],
   "source": []
  }
 ],
 "metadata": {
  "kernelspec": {
   "display_name": "Python 3",
   "language": "python",
   "name": "python3"
  },
  "language_info": {
   "codemirror_mode": {
    "name": "ipython",
    "version": 3
   },
   "file_extension": ".py",
   "mimetype": "text/x-python",
   "name": "python",
   "nbconvert_exporter": "python",
   "pygments_lexer": "ipython3",
   "version": "3.6.6"
  }
 },
 "nbformat": 4,
 "nbformat_minor": 2
}
